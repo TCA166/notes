{
 "cells": [
  {
   "cell_type": "markdown",
   "metadata": {},
   "source": [
    "# Języki formalne i złożoność obliczeniowa\n",
    "\n",
    "> Coś jak matematyka dyskretna, tylko że nie dyskretna\n",
    "\n",
    "## Literatura\n",
    "\n",
    "- [J.E. Hopencroft \"Wprowadzenie do teorii automatów i obliczeń\"]()\n",
    "- [M. Sipser \"Wprowadzenie do teorii obliczeń\"]()\n",
    "- [G.E. Revesz \"Introduction to formal languages\"]()\n",
    "- [H.R. Lewin, Papadimitriou \"Elements of the Theory of Computation\"]()\n",
    "\n",
    "## Język\n",
    "\n",
    "$\\infty \\text{ zdań} + n \\text{ reguł} = \\text{język}$\n",
    "\n",
    "### Funkcje języka\n",
    "\n",
    "1. Poznawcza\n",
    "2. Społeczna\n",
    "3. Ekspresyjna\n",
    "\n",
    "### Nauka o języku\n",
    "\n",
    "1. syntaktyka - budowa\n",
    "2. semantyka - co znaczy?\n",
    "3. pragmatyka - jak się używa?\n",
    "\n",
    "Przykład:\n",
    "\n",
    "$2 + 3 \\cdot 4$: różna semantyka $\\rightarrow$ wieloznaczność syntaktyczna\n"
   ]
  },
  {
   "cell_type": "code",
   "execution_count": 1,
   "metadata": {
    "tags": [
     "parameters"
    ],
    "vscode": {
     "languageId": "latex"
    }
   },
   "outputs": [],
   "source": [
    "%load_ext jupyter_tikz"
   ]
  },
  {
   "cell_type": "code",
   "execution_count": 17,
   "metadata": {
    "vscode": {
     "languageId": "latex"
    }
   },
   "outputs": [
    {
     "data": {
      "image/png": "[encoded data removed]",
      "text/plain": [
       "<IPython.core.display.Image object>"
      ]
     },
     "execution_count": 17,
     "metadata": {},
     "output_type": "execute_result"
    }
   ],
   "source": [
    "%%tikz -sc=2.0 -l=fit -r -g\n",
    "\\begin{tikzpicture}[node distance=2cm]\n",
    "    \\node[draw, minimum size=2cm] (square) {L};\n",
    "    \\draw[<-] (square.west) -- node[anchor=south]{generowanie} node[anchor=north]{gramatyki} ++(-3,0);\n",
    "    \\draw[<-] (square.east) -- node[anchor=south]{rozpoznawanie} node[anchor=north]{automaty} ++(3,0);\n",
    "    \\node[fit=(square), inner sep=1cm] {};\n",
    "\\end{tikzpicture}"
   ]
  },
  {
   "cell_type": "markdown",
   "metadata": {},
   "source": [
    "## Alfabet\n",
    "\n",
    "Alfabet to zbiór atomowych dozwolonych symboli\n",
    "\n",
    "Przykład: $\\set{a, b, c, d}$\n",
    "\n",
    "## Słowo\n",
    "\n",
    "Ciąg symboli nad alfabetem\n",
    "\n",
    "- $\\epsilon$ - słowo puste\n",
    "- $\\set{K, L, O, P, S} \\ne \"KLOPS\"$, ponieważ słowa mają dodane znaczenie, w postaci tego do którego języka należą.\n",
    "\n",
    "### Konkatenacja\n",
    "\n",
    "1. $\\text{Dla } P=a_1...a_n \\text{ i } Q=b_1...b_n, \\text{ to } PQ=a_1...a_nb_1...b_n$\n",
    "2. $P\\epsilon = P$\n",
    "3. $\\epsilon\\epsilon = \\epsilon$\n",
    "\n",
    "- Łączna\n",
    "- Nieprzemienna\n",
    "- Brak el. odwrotnego\n",
    "\n",
    "### Podsłowo\n",
    "\n",
    "1. $P = Q_1 | Q | Q_2$\n",
    "2. $Q \\sub P$\n",
    "\n",
    "### Długość słowa\n",
    "\n",
    "1. $|\\epsilon| = 0$\n",
    "2. $|Pa| = |P| + 1$\n",
    "3. $|PQ| = |P| + |Q|$\n",
    "\n",
    "### Potęga słowa\n",
    "\n",
    "1. $P^0 = \\epsilon$\n",
    "2. $P^{n + 1} = P^nP$\n",
    "\n",
    "### Odbicie\n",
    "\n",
    "1. $\\epsilon^-1 = \\epsilon$\n",
    "2. $(Pa)^-1 = aP^-1$\n"
   ]
  },
  {
   "cell_type": "markdown",
   "metadata": {},
   "source": [
    "## Język\n",
    "\n",
    "Zbiór dozwolonych słów nad alfabetem\n",
    "\n",
    "- $V^*$ - zbiór wszystkich języków\n",
    "- $V^+ = V^* \\ {\\epsilon}$\n",
    "- $L \\in V^*$\n",
    "- $\\set{a, ab} \\ne {\\epsilon, a, ab}$ ponieważ inaczej operacje na językach by nie działały\n",
    "\n",
    "### Konkatenacja\n",
    "\n",
    "$$\n",
    "L_1 = \\set{a, aa}, L_2 = \\set{b, aba}, L_1L_2 = \\set{ab, aaba, aab, aaaba}\n",
    "$$\n",
    "\n",
    "|    | b   | aba   |\n",
    "|----|-----|-------|\n",
    "| a  | ab  | aaba  |\n",
    "| aa | aab | aaaba |\n",
    "\n",
    "- $|L_1L_2| \\le |L_1| \\cdot |L_2|$ bo eps wszystko psuje \n",
    "\n",
    "$$\n",
    "L_1 = \\set{a^n : n \\ge 0}, L_2 = \\set{b^n : n \\ge 0}, L_1L_2 = \\set{a^nb^m : n, m \\ge 0}\n",
    "$$\n",
    "\n",
    "### Potęgowanie\n",
    "\n",
    "$$\n",
    "L = \\set{a, ab}, L^0 = \\set{\\epsilon}, L^1 = \\set{a, ab}, L^2 = L \\cdot L\n",
    "$$\n",
    "\n",
    "**Potęgowanie na językach jest dziwne**\n",
    "\n",
    "$$\n",
    "L = \\set{a^n : n \\ge 0}, L^2 = \\set{a^n a^m : a, m \\ge 0} = \\set{a^n : a \\ge 0} = L\n",
    "$$\n",
    "\n",
    "Potęgowanie języku **nie** zwiększyło mocy\n",
    "\n",
    "$$\n",
    "L = \\set{a^n : n > 0}, L^2 = \\set{a^n a^m : a, m > 0} = L \\ \\set{a} = {a^n : n > 1}\n",
    "$$\n",
    "\n",
    "Potęgowanie *zmniejszyło* moc języku\n"
   ]
  },
  {
   "cell_type": "markdown",
   "metadata": {},
   "source": [
    "## Dzielenie słów\n",
    "\n",
    "$$\n",
    "P \\in L^n \\rightarrow \\text{ można podzielić } P \\text{ na } n \\text{ (niekoniecznie różnych) słów}\n",
    "$$\n",
    "\n",
    "$$\n",
    "L = \\set{a, ab}, \"aababaabab\" \\in L^n, n=?\n",
    "$$\n",
    "\n",
    "Jest to problem wykładniczy, który wymaga stworzenia drzewa różnych możliwości.\n"
   ]
  },
  {
   "cell_type": "code",
   "execution_count": 18,
   "metadata": {},
   "outputs": [
    {
     "name": "stdout",
     "output_type": "stream",
     "text": [
      "[['aab', 'a', 'ba', 'ab', 'ab'], ['aab', 'a', 'baab', 'ab'], ['aab', 'ab', 'aab', 'ab'], ['aab', 'ab', 'a', 'ab', 'ab'], ['a', 'a', 'ba', 'ba', 'ab', 'ab'], ['a', 'a', 'ba', 'baab', 'ab'], ['a', 'ab', 'a', 'ba', 'ab', 'ab'], ['a', 'ab', 'a', 'baab', 'ab'], ['a', 'ab', 'ab', 'aab', 'ab'], ['a', 'ab', 'ab', 'a', 'ab', 'ab']]\n"
     ]
    }
   ],
   "source": [
    "from __future__ import annotations\n",
    "\n",
    "L = set([\"a\", \"ab\", \"ba\", \"aab\", \"baab\"])\n",
    "\n",
    "def deconstruct(language: set[str], target: str) -> list[tuple[str, str]]:\n",
    "    result = []\n",
    "    for el in language:\n",
    "        if target.startswith(el):\n",
    "            result.append((el, target[len(el):]))\n",
    "    return result\n",
    "\n",
    "class State:\n",
    "    def __init__(self, target: str, language: set[str], el:str | None = None, parent: \"State\" | None = None):\n",
    "        self.target = target\n",
    "        self.language = language\n",
    "        self.parent = parent\n",
    "        self.el = el\n",
    "        self.children:list[\"State\"] = []\n",
    "        for el, target in deconstruct(language, target):\n",
    "            self.children.append(State(target, language, el, self))\n",
    "    def get_possible_deconstructions(self) -> list[list[str]]:\n",
    "        res = []\n",
    "        for child in self.children:\n",
    "            for decon in child.get_possible_deconstructions():\n",
    "                # wyrzucamy rozwiązania które nie doszły do końca\n",
    "                if sum(len(x) for x in decon) != len(self.target):\n",
    "                    continue\n",
    "                if self.el:\n",
    "                    decon.insert(0, self.el)\n",
    "                res.append(decon)\n",
    "        return res or [[self.el]]\n",
    "            \n",
    "top = State(\"aababaabab\", L)\n",
    "\n",
    "print(top.get_possible_deconstructions())\n"
   ]
  },
  {
   "cell_type": "markdown",
   "metadata": {},
   "source": [
    "## Domknięcie Kleenego\n",
    "\n",
    "$$\n",
    "L^* = \\bigcup_{n \\ge 0}^{\\infty}L^n\n",
    "$$\n",
    "\n",
    "$$\n",
    "L^+ = \\bigcup_{n \\ge 1}^{\\infty}L^n\n",
    "$$\n",
    "\n",
    "$$\n",
    "L_1 = \\set{a}, L_1^* = \\set{a^n : n \\ge 0}, L_1^+ = \\set{a^n : n > 0}\n",
    "$$\n",
    "\n",
    "$$\n",
    "L_2 = \\set{\\epsilon, a}, L_2^* = \\set{a^n : n \\ge 0} = L_2^+\n",
    "$$\n",
    "\n",
    "$$\n",
    "L = \\set{aa, ab, ba, bb}, L^* = \\set{P \\in \\set{a, b}^* : 2 | |P|} = \\text{wszystkie słowa nad alfabetem {a, b} o parzystej długości}\n",
    "$$\n",
    "\n",
    "- $L^+ \\sub L^*$\n",
    "- $\\epsilon \\in L \\rightarrow L^+ = L^*$\n",
    "- $(L^*)^* = L^*$\n",
    "- $L_1 \\sub L_2 \\rightarrow L_1^* \\sub L_2^*$"
   ]
  },
  {
   "cell_type": "markdown",
   "metadata": {},
   "source": [
    "## Deterministyczne automaty skończenie stanowe - model 'politechniczny'\n",
    "\n",
    "### Elementy automatu skończenie stanowego\n",
    "\n",
    "- nieskończona taśma,\n",
    "- rejestry,\n",
    "- w każdym rejestrze symbol z alfabetu T,\n",
    "- głowica, która porusza się od lewej do prawej po rejestrach taśmy, aż do momentu, kiedy napotka pusty rejestr. Głowica zawsze jest w jednym ze stanów z zbioru stanów.\n",
    "\n",
    "### Formalna definicja\n",
    "\n",
    "Automat skończenie stanowy jest uporządkowaną piątką \n",
    "$$\n",
    "\\mathfrak{A} = \\langle K,T,\\delta,q_0,H \\rangle \n",
    "$$\n",
    "gdzie:\n",
    "- $K$   zbiór stanów\n",
    "- $T$   alfabet - symbole z tego alfabetu znajdują się w rejestrach\n",
    "- $\\delta: K \\times T \\rightarrow K$  funkcja przejścia automatu\n",
    "- $q_0$ stan początkowy automatu\n",
    "- $H$ zbiór stanów akceptowalnych/końcowych\n",
    "\n",
    "### Funkcja stanów przedstawiona w tabelce\n",
    "\n",
    "Zbiory $K$ i $T$ są skończone, co oznacza, że funkcję $\\delta$ można przedstawić w formie tabelki. Przykład:\n",
    "\n",
    "$$\n",
    "K = \\{q_0, q_1, q_2\\}, T = \\{a,b\\}, H = \\{q_2\\}\n",
    "$$\n",
    "\n",
    "$$\n",
    "\\delta: K \\times T \\rightarrow K\n",
    "$$\n",
    "\n",
    "|                   | a     | b     |\n",
    "|-------------------|-------|-------|\n",
    "| $\\rightarrow q_0$ | $q_2$ | $q_1$ |\n",
    "| $q_1$             | $q_0$ | $q_1$ |\n",
    "| $\\underline{q_2}$ | $q_1$ | $q_2$ |\n",
    "\n",
    "gdzie $\\rightarrow$ oznacza stan początkowy, a podkreślenie stanu oznacza stan akceptowalny/końcowy.\n",
    "\n",
    "### Rozszerzona funkcja przejścia\n",
    "\n",
    "$$\n",
    "\\stackrel{\\wedge}{\\delta}: K \\times T^* \\rightarrow K\n",
    "$$\n",
    "\n",
    "1. $\\stackrel{\\wedge}{\\delta}(q, \\epsilon) = q$\n",
    "2. $\\stackrel{\\wedge}{\\delta}(q, Pa) = \\delta(\\stackrel{\\wedge}{\\delta}(q, P), a)$\n",
    "\n",
    "### Przykład\n",
    "\n",
    "Narysuj diagram przejścia deterministycznego automatu skończenie stanowego $\\mathfrak{A}$ w którym $T=\\set{0, 1}, P \\in L(\\mathfrak{A})$ wtedy i tylko wtedy gdy w $P$ występuje na pierwszym od końca miejscu\n"
   ]
  },
  {
   "cell_type": "code",
   "execution_count": 18,
   "metadata": {
    "vscode": {
     "languageId": "latex"
    }
   },
   "outputs": [
    {
     "data": {
      "image/png": "[encoded data removed]",
      "text/plain": [
       "<IPython.core.display.Image object>"
      ]
     },
     "execution_count": 18,
     "metadata": {},
     "output_type": "execute_result"
    }
   ],
   "source": [
    "%%tikz -sc=2.0 -l=automata,positioning -r -g\n",
    "\\begin{tikzpicture}[shorten >=1pt,node distance=2cm,on grid,auto] \n",
    "    \\node[state,initial] (q_0)   {$q_0$}; \n",
    "    \\node[state,accepting](q_1) [right=of q_0] {$q_1$};\n",
    "    \\path[->] \n",
    "    (q_0) edge [bend left] node {1} (q_1)\n",
    "        edge [loop above] node {0} ()\n",
    "    (q_1) edge [bend left] node {0} (q_0) \n",
    "        edge [loop below] node {1} ();\n",
    "\\end{tikzpicture}"
   ]
  },
  {
   "cell_type": "markdown",
   "metadata": {},
   "source": [
    "Narysuj diagram przejścia deterministycznego automatu skończenie stanowego $\\mathfrak{A}$ w którym $T=\\set{0, 1}, P \\in L(\\mathfrak{A})$ wtedy i tylko wtedy gdy w $P$ występuje na drugim od końca miejscu 1."
   ]
  },
  {
   "cell_type": "code",
   "execution_count": 19,
   "metadata": {
    "vscode": {
     "languageId": "latex"
    }
   },
   "outputs": [
    {
     "data": {
      "image/png": "[encoded data removed]",
      "text/plain": [
       "<IPython.core.display.Image object>"
      ]
     },
     "execution_count": 19,
     "metadata": {},
     "output_type": "execute_result"
    }
   ],
   "source": [
    "%%tikz -sc=2.0 -l=automata,positioning -r -g\n",
    "\\begin{tikzpicture}[shorten >=1pt,node distance=2.0cm,on grid,auto]\n",
    "    \\node[state,initial] (q_0)   {$q_0$}; \n",
    "    \\node[state](q_1) [right=of q_0] {$q_1$};\n",
    "    \\node[state,accepting](q_2) [above right=of q_1] {$q_2$};\n",
    "    \\node[state,accepting](q_3) [below right=of q_1] {$q_3$};\n",
    "    \\path[->] \n",
    "    (q_0) edge   node {1} (q_1)\n",
    "          edge  [loop above] node {0} ()\n",
    "    (q_1) edge  [bend left] node {0} (q_3)\n",
    "          edge  [bend left] node {1} (q_2)\n",
    "    (q_2) edge  [loop above] node {1} ()\n",
    "          edge  [bend left] node {0} (q_3)\n",
    "    (q_3) edge  [bend left] node {1} (q_1)\n",
    "          edge  [bend left] node {0} (q_0);\n",
    "\\end{tikzpicture}"
   ]
  },
  {
   "cell_type": "markdown",
   "metadata": {},
   "source": [
    "Widać wprost zależność że w zależności od miejsca od końca na którym ma być jeden rośnie ilość stanów.\n",
    "Ilość stanów maszyny $|K|$ do wykrywania 1 na $n$-tym miejscu od końca można wyrazić w następujący sposób: $|K| = 2^n$ "
   ]
  },
  {
   "cell_type": "markdown",
   "metadata": {},
   "source": [
    "## Niedeterministyczne automaty\n",
    "\n",
    "- zamiast jednego stanu początkowego jest zbiór stanów początkowych\n",
    "- niedeterministyczna funkcja przejścia, która zwraca zbiór wyjściowych stanów\n",
    "\n",
    "$$\n",
    "\\mathfrak{A} = \\langle K,T,\\delta,Q_0,H \\rangle \n",
    "$$\n",
    "\n",
    "gdzie oznaczenia są identyczne jak dla deterministycznego automatu z dwoma różnicami:\n",
    "\n",
    "- $\\delta: K \\times T \\rightarrow a \\in K$  funkcja przejścia automatu\n",
    "- $Q_0$ zbiór stanów początkowych automatu\n",
    "\n",
    "Niedeterministyczna wersja drugiego automatu z [przykładu](#przykład)\n"
   ]
  },
  {
   "cell_type": "code",
   "execution_count": 22,
   "metadata": {
    "vscode": {
     "languageId": "latex"
    }
   },
   "outputs": [
    {
     "data": {
      "image/svg+xml": [
       "<svg xmlns=\"http://www.w3.org/2000/svg\" xmlns:xlink=\"http://www.w3.org/1999/xlink\" width=\"372.203\" height=\"110.741\" viewBox=\"0 0 372.203 110.741\">\n",
       "<defs>\n",
       "<g>\n",
       "<g id=\"glyph-0-0\">\n",
       "<path d=\"M 8.984375 -8.5625 C 8.984375 -8.640625 8.921875 -8.765625 8.78125 -8.765625 C 8.5625 -8.765625 7.765625 -7.96875 7.4375 -7.390625 C 7 -8.46875 6.21875 -8.78125 5.578125 -8.78125 C 3.234375 -8.78125 0.796875 -5.84375 0.796875 -2.96875 C 0.796875 -1.015625 1.96875 0.21875 3.421875 0.21875 C 4.265625 0.21875 5.046875 -0.265625 5.765625 -0.96875 C 5.578125 -0.28125 4.921875 2.40625 4.875 2.578125 C 4.703125 3.140625 4.546875 3.21875 3.4375 3.234375 C 3.1875 3.234375 2.984375 3.234375 2.984375 3.640625 C 2.984375 3.65625 2.984375 3.859375 3.234375 3.859375 C 3.875 3.859375 4.578125 3.796875 5.234375 3.796875 C 5.90625 3.796875 6.625 3.859375 7.28125 3.859375 C 7.375 3.859375 7.625 3.859375 7.625 3.453125 C 7.625 3.234375 7.4375 3.234375 7.109375 3.234375 C 6.15625 3.234375 6.15625 3.09375 6.15625 2.921875 C 6.15625 2.78125 6.203125 2.65625 6.234375 2.484375 Z M 3.484375 -0.21875 C 2.28125 -0.21875 2.203125 -1.75 2.203125 -2.09375 C 2.203125 -3.046875 2.78125 -5.203125 3.125 -6.046875 C 3.734375 -7.515625 4.765625 -8.34375 5.578125 -8.34375 C 6.875 -8.34375 7.15625 -6.734375 7.15625 -6.59375 C 7.15625 -6.484375 6.0625 -2.125 6 -2.046875 C 5.703125 -1.484375 4.59375 -0.21875 3.484375 -0.21875 Z M 3.484375 -0.21875 \"/>\n",
       "</g>\n",
       "<g id=\"glyph-1-0\">\n",
       "<path d=\"M 7.1875 -4.4375 C 7.1875 -5.96875 7 -7.078125 6.359375 -8.046875 C 5.9375 -8.6875 5.0625 -9.25 3.953125 -9.25 C 0.71875 -9.25 0.71875 -5.4375 0.71875 -4.4375 C 0.71875 -3.4375 0.71875 0.28125 3.953125 0.28125 C 7.1875 0.28125 7.1875 -3.4375 7.1875 -4.4375 Z M 3.953125 -0.109375 C 3.3125 -0.109375 2.46875 -0.484375 2.1875 -1.625 C 1.984375 -2.453125 1.984375 -3.59375 1.984375 -4.625 C 1.984375 -5.640625 1.984375 -6.703125 2.203125 -7.46875 C 2.484375 -8.5625 3.390625 -8.859375 3.953125 -8.859375 C 4.703125 -8.859375 5.421875 -8.390625 5.6875 -7.59375 C 5.90625 -6.828125 5.921875 -5.828125 5.921875 -4.625 C 5.921875 -3.59375 5.921875 -2.5625 5.734375 -1.6875 C 5.453125 -0.421875 4.515625 -0.109375 3.953125 -0.109375 Z M 3.953125 -0.109375 \"/>\n",
       "</g>\n",
       "<g id=\"glyph-1-1\">\n",
       "<path d=\"M 4.65625 -8.859375 C 4.65625 -9.234375 4.640625 -9.25 4.25 -9.25 C 3.359375 -8.359375 2.09375 -8.359375 1.515625 -8.359375 L 1.515625 -7.859375 C 1.859375 -7.859375 2.765625 -7.859375 3.53125 -8.234375 L 3.53125 -1.140625 C 3.53125 -0.6875 3.53125 -0.5 2.140625 -0.5 L 1.609375 -0.5 L 1.609375 0 C 1.859375 -0.015625 3.578125 -0.0625 4.09375 -0.0625 C 4.53125 -0.0625 6.28125 -0.015625 6.578125 0 L 6.578125 -0.5 L 6.0625 -0.5 C 4.65625 -0.5 4.65625 -0.6875 4.65625 -1.140625 Z M 4.65625 -8.859375 \"/>\n",
       "</g>\n",
       "<g id=\"glyph-1-2\">\n",
       "<path d=\"M 7.03125 -2.53125 L 6.5625 -2.53125 C 6.515625 -2.234375 6.375 -1.40625 6.1875 -1.265625 C 6.078125 -1.1875 5.015625 -1.1875 4.8125 -1.1875 L 2.25 -1.1875 C 3.71875 -2.484375 4.203125 -2.875 5.046875 -3.515625 C 6.0625 -4.34375 7.03125 -5.203125 7.03125 -6.53125 C 7.03125 -8.21875 5.5625 -9.25 3.765625 -9.25 C 2.046875 -9.25 0.875 -8.03125 0.875 -6.75 C 0.875 -6.046875 1.46875 -5.96875 1.609375 -5.96875 C 1.953125 -5.96875 2.359375 -6.203125 2.359375 -6.703125 C 2.359375 -6.96875 2.25 -7.453125 1.53125 -7.453125 C 1.96875 -8.4375 2.90625 -8.75 3.5625 -8.75 C 4.953125 -8.75 5.6875 -7.65625 5.6875 -6.53125 C 5.6875 -5.3125 4.8125 -4.359375 4.375 -3.859375 L 1.015625 -0.546875 C 0.875 -0.421875 0.875 -0.390625 0.875 0 L 6.609375 0 Z M 7.03125 -2.53125 \"/>\n",
       "</g>\n",
       "<g id=\"glyph-2-0\">\n",
       "<path d=\"M 4.140625 -3.859375 C 4.578125 -3.78125 6.203125 -3.453125 6.203125 -2.03125 C 6.203125 -1.015625 5.5 -0.21875 3.953125 -0.21875 C 2.28125 -0.21875 1.5625 -1.34375 1.1875 -3.046875 C 1.140625 -3.296875 1.109375 -3.375 0.921875 -3.375 C 0.65625 -3.375 0.65625 -3.234375 0.65625 -2.875 L 0.65625 -0.265625 C 0.65625 0.078125 0.65625 0.21875 0.875 0.21875 C 0.96875 0.21875 1 0.203125 1.375 -0.171875 C 1.40625 -0.21875 1.40625 -0.265625 1.765625 -0.640625 C 2.640625 0.203125 3.53125 0.21875 3.953125 0.21875 C 6.234375 0.21875 7.15625 -1.109375 7.15625 -2.546875 C 7.15625 -3.59375 6.5625 -4.1875 6.3125 -4.4375 C 5.671875 -5.0625 4.890625 -5.234375 4.046875 -5.390625 C 2.9375 -5.609375 1.609375 -5.859375 1.609375 -7.015625 C 1.609375 -7.71875 2.125 -8.53125 3.828125 -8.53125 C 6.015625 -8.53125 6.125 -6.734375 6.15625 -6.125 C 6.1875 -5.9375 6.359375 -5.9375 6.40625 -5.9375 C 6.65625 -5.9375 6.65625 -6.046875 6.65625 -6.421875 L 6.65625 -8.421875 C 6.65625 -8.765625 6.65625 -8.90625 6.4375 -8.90625 C 6.34375 -8.90625 6.296875 -8.90625 6.046875 -8.671875 C 5.984375 -8.59375 5.78125 -8.40625 5.703125 -8.34375 C 4.953125 -8.90625 4.140625 -8.90625 3.828125 -8.90625 C 1.40625 -8.90625 0.65625 -7.578125 0.65625 -6.453125 C 0.65625 -5.765625 0.96875 -5.203125 1.515625 -4.765625 C 2.140625 -4.25 2.703125 -4.140625 4.140625 -3.859375 Z M 4.140625 -3.859375 \"/>\n",
       "</g>\n",
       "<g id=\"glyph-2-1\">\n",
       "<path d=\"M 3.4375 -7.953125 L 6.28125 -7.953125 L 6.28125 -8.5625 L 3.4375 -8.5625 L 3.4375 -12.21875 L 2.9375 -12.21875 C 2.921875 -10.59375 2.328125 -8.46875 0.375 -8.390625 L 0.375 -7.953125 L 2.0625 -7.953125 L 2.0625 -2.46875 C 2.0625 -0.015625 3.921875 0.21875 4.625 0.21875 C 6.046875 0.21875 6.59375 -1.1875 6.59375 -2.46875 L 6.59375 -3.59375 L 6.109375 -3.59375 L 6.109375 -2.5 C 6.109375 -1.03125 5.5 -0.28125 4.765625 -0.28125 C 3.4375 -0.28125 3.4375 -2.09375 3.4375 -2.421875 Z M 3.4375 -7.953125 \"/>\n",
       "</g>\n",
       "<g id=\"glyph-2-2\">\n",
       "<path d=\"M 6.625 -1.515625 C 6.703125 -0.71875 7.234375 0.125 8.171875 0.125 C 8.59375 0.125 9.796875 -0.15625 9.796875 -1.765625 L 9.796875 -2.875 L 9.296875 -2.875 L 9.296875 -1.765625 C 9.296875 -0.609375 8.796875 -0.5 8.59375 -0.5 C 7.9375 -0.5 7.84375 -1.390625 7.84375 -1.484375 L 7.84375 -5.46875 C 7.84375 -6.296875 7.84375 -7.078125 7.140625 -7.8125 C 6.359375 -8.59375 5.359375 -8.90625 4.40625 -8.90625 C 2.78125 -8.90625 1.40625 -7.96875 1.40625 -6.65625 C 1.40625 -6.0625 1.8125 -5.71875 2.328125 -5.71875 C 2.875 -5.71875 3.234375 -6.125 3.234375 -6.640625 C 3.234375 -6.875 3.140625 -7.53125 2.21875 -7.546875 C 2.765625 -8.25 3.734375 -8.46875 4.375 -8.46875 C 5.34375 -8.46875 6.484375 -7.6875 6.484375 -5.921875 L 6.484375 -5.1875 C 5.46875 -5.125 4.078125 -5.0625 2.828125 -4.46875 C 1.328125 -3.796875 0.828125 -2.765625 0.828125 -1.890625 C 0.828125 -0.28125 2.765625 0.21875 4.015625 0.21875 C 5.328125 0.21875 6.234375 -0.578125 6.625 -1.515625 Z M 6.484375 -4.765625 L 6.484375 -2.78125 C 6.484375 -0.890625 5.046875 -0.21875 4.15625 -0.21875 C 3.1875 -0.21875 2.359375 -0.921875 2.359375 -1.90625 C 2.359375 -3 3.203125 -4.65625 6.484375 -4.765625 Z M 6.484375 -4.765625 \"/>\n",
       "</g>\n",
       "<g id=\"glyph-2-3\">\n",
       "<path d=\"M 3.3125 -6.59375 L 3.3125 -8.78125 L 0.5625 -8.5625 L 0.5625 -7.953125 C 1.953125 -7.953125 2.109375 -7.8125 2.109375 -6.84375 L 2.109375 -1.515625 C 2.109375 -0.609375 1.890625 -0.609375 0.5625 -0.609375 L 0.5625 0 C 1.328125 -0.015625 2.265625 -0.0625 2.828125 -0.0625 C 3.625 -0.0625 4.546875 -0.0625 5.34375 0 L 5.34375 -0.609375 L 4.921875 -0.609375 C 3.453125 -0.609375 3.421875 -0.828125 3.421875 -1.546875 L 3.421875 -4.609375 C 3.421875 -6.578125 4.25 -8.34375 5.765625 -8.34375 C 5.90625 -8.34375 5.9375 -8.34375 5.984375 -8.328125 C 5.921875 -8.3125 5.53125 -8.0625 5.53125 -7.546875 C 5.53125 -7 5.9375 -6.703125 6.375 -6.703125 C 6.734375 -6.703125 7.234375 -6.9375 7.234375 -7.578125 C 7.234375 -8.203125 6.625 -8.78125 5.765625 -8.78125 C 4.3125 -8.78125 3.59375 -7.453125 3.3125 -6.59375 Z M 3.3125 -6.59375 \"/>\n",
       "</g>\n",
       "<g id=\"glyph-2-4\">\n",
       "<path d=\"M 5.84375 -12.71875 C 5.84375 -13.203125 5.84375 -13.234375 5.390625 -13.234375 C 4.15625 -11.96875 2.40625 -11.96875 1.765625 -11.96875 L 1.765625 -11.34375 C 2.171875 -11.34375 3.34375 -11.34375 4.375 -11.859375 L 4.375 -1.5625 C 4.375 -0.859375 4.3125 -0.609375 2.53125 -0.609375 L 1.890625 -0.609375 L 1.890625 0 C 2.578125 -0.0625 4.3125 -0.0625 5.109375 -0.0625 C 5.90625 -0.0625 7.625 -0.0625 8.328125 0 L 8.328125 -0.609375 L 7.6875 -0.609375 C 5.90625 -0.609375 5.84375 -0.828125 5.84375 -1.5625 Z M 5.84375 -12.71875 \"/>\n",
       "</g>\n",
       "<g id=\"glyph-2-5\">\n",
       "<path d=\"M 9.140625 -6.359375 C 9.140625 -7.953125 9.046875 -9.546875 8.34375 -11.015625 C 7.4375 -12.921875 5.796875 -13.234375 4.96875 -13.234375 C 3.78125 -13.234375 2.328125 -12.71875 1.515625 -10.875 C 0.875 -9.5 0.78125 -7.953125 0.78125 -6.359375 C 0.78125 -4.875 0.859375 -3.078125 1.671875 -1.5625 C 2.53125 0.046875 3.96875 0.4375 4.953125 0.4375 C 6.015625 0.4375 7.53125 0.015625 8.40625 -1.875 C 9.046875 -3.234375 9.140625 -4.796875 9.140625 -6.359375 Z M 4.953125 0 C 4.171875 0 3 -0.5 2.640625 -2.40625 C 2.421875 -3.59375 2.421875 -5.421875 2.421875 -6.59375 C 2.421875 -7.875 2.421875 -9.1875 2.578125 -10.25 C 2.96875 -12.625 4.453125 -12.796875 4.953125 -12.796875 C 5.609375 -12.796875 6.921875 -12.4375 7.296875 -10.46875 C 7.5 -9.359375 7.5 -7.84375 7.5 -6.59375 C 7.5 -5.109375 7.5 -3.75 7.28125 -2.484375 C 6.96875 -0.59375 5.84375 0 4.953125 0 Z M 4.953125 0 \"/>\n",
       "</g>\n",
       "<g id=\"glyph-2-6\">\n",
       "<path d=\"M 4.03125 -0.015625 C 4.03125 -1.296875 3.5625 -2.109375 2.765625 -2.109375 C 2.0625 -2.109375 1.703125 -1.5625 1.703125 -1.046875 C 1.703125 -0.53125 2.046875 0 2.765625 0 C 3.078125 0 3.3125 -0.125 3.515625 -0.28125 L 3.5625 -0.3125 C 3.578125 -0.3125 3.59375 -0.296875 3.59375 -0.015625 C 3.59375 1.25 3.046875 2.46875 2.171875 3.40625 C 2.046875 3.515625 2.03125 3.53125 2.03125 3.625 C 2.03125 3.75 2.125 3.828125 2.21875 3.828125 C 2.46875 3.828125 4.03125 2.265625 4.03125 -0.015625 Z M 4.03125 -0.015625 \"/>\n",
       "</g>\n",
       "</g>\n",
       "<clipPath id=\"clip-0\">\n",
       "<path clip-rule=\"nonzero\" d=\"M 76 48 L 149 48 L 149 110.484375 L 76 110.484375 Z M 76 48 \"/>\n",
       "</clipPath>\n",
       "<clipPath id=\"clip-1\">\n",
       "<path clip-rule=\"nonzero\" d=\"M 189 48 L 262 48 L 262 110.484375 L 189 110.484375 Z M 189 48 \"/>\n",
       "</clipPath>\n",
       "<clipPath id=\"clip-2\">\n",
       "<path clip-rule=\"nonzero\" d=\"M 274 20 L 371.371094 20 L 371.371094 110.484375 L 274 110.484375 Z M 274 20 \"/>\n",
       "</clipPath>\n",
       "<clipPath id=\"clip-3\">\n",
       "<path clip-rule=\"nonzero\" d=\"M 296 42 L 371.371094 42 L 371.371094 110.484375 L 296 110.484375 Z M 296 42 \"/>\n",
       "</clipPath>\n",
       "</defs>\n",
       "<g clip-path=\"url(#clip-0)\">\n",
       "<path fill=\"none\" stroke-width=\"0.3985\" stroke-linecap=\"butt\" stroke-linejoin=\"miter\" stroke=\"rgb(0%, 0%, 0%)\" stroke-opacity=\"1\" stroke-miterlimit=\"10\" d=\"M 12.452646 -0.000106164 C 12.452646 6.877269 6.877137 12.452779 -0.000238515 12.452779 C -6.877614 12.452779 -12.453123 6.877269 -12.453123 -0.000106164 C -12.453123 -6.877481 -6.877614 -12.452991 -0.000238515 -12.452991 C 6.877137 -12.452991 12.452646 -6.877481 12.452646 -0.000106164 Z M 12.452646 -0.000106164 \" transform=\"matrix(1.995333, 0, 0, -1.995333, 112.262195, 84.241976)\"/>\n",
       "</g>\n",
       "<g fill=\"rgb(0%, 0%, 0%)\" fill-opacity=\"1\">\n",
       "<use xlink:href=\"#glyph-0-0\" x=\"103.365003\" y=\"86.588488\"/>\n",
       "</g>\n",
       "<g fill=\"rgb(0%, 0%, 0%)\" fill-opacity=\"1\">\n",
       "<use xlink:href=\"#glyph-1-0\" x=\"112.240246\" y=\"89.571511\"/>\n",
       "</g>\n",
       "<path fill=\"none\" stroke-width=\"0.3985\" stroke-linecap=\"butt\" stroke-linejoin=\"miter\" stroke=\"rgb(0%, 0%, 0%)\" stroke-opacity=\"1\" stroke-miterlimit=\"10\" d=\"M -25.520724 -0.000106164 L -14.107374 -0.000106164 \" transform=\"matrix(1.995333, 0, 0, -1.995333, 112.262195, 84.241976)\"/>\n",
       "<path fill=\"none\" stroke-width=\"0.31879\" stroke-linecap=\"round\" stroke-linejoin=\"round\" stroke=\"rgb(0%, 0%, 0%)\" stroke-opacity=\"1\" stroke-miterlimit=\"10\" d=\"M -1.196254 1.593456 C -1.096412 0.99636 -0.000103914 0.0997362 0.299423 -0.000106164 C -0.000103914 -0.0999485 -1.096412 -0.996572 -1.196254 -1.593668 \" transform=\"matrix(1.995333, 0, 0, -1.995333, 84.113489, 84.241976)\"/>\n",
       "<g fill=\"rgb(0%, 0%, 0%)\" fill-opacity=\"1\">\n",
       "<use xlink:href=\"#glyph-2-0\" x=\"13.287675\" y=\"90.355677\"/>\n",
       "<use xlink:href=\"#glyph-2-1\" x=\"21.127838\" y=\"90.355677\"/>\n",
       "<use xlink:href=\"#glyph-2-2\" x=\"28.858667\" y=\"90.355677\"/>\n",
       "<use xlink:href=\"#glyph-2-3\" x=\"38.798021\" y=\"90.355677\"/>\n",
       "<use xlink:href=\"#glyph-2-1\" x=\"46.584511\" y=\"90.355677\"/>\n",
       "</g>\n",
       "<g clip-path=\"url(#clip-1)\">\n",
       "<path fill=\"none\" stroke-width=\"0.3985\" stroke-linecap=\"butt\" stroke-linejoin=\"miter\" stroke=\"rgb(0%, 0%, 0%)\" stroke-opacity=\"1\" stroke-miterlimit=\"10\" d=\"M 69.147434 -0.000106164 C 69.147434 6.877269 63.571925 12.452779 56.694549 12.452779 C 49.815216 12.452779 44.239707 6.877269 44.239707 -0.000106164 C 44.239707 -6.877481 49.815216 -12.452991 56.694549 -12.452991 C 63.571925 -12.452991 69.147434 -6.877481 69.147434 -0.000106164 Z M 69.147434 -0.000106164 \" transform=\"matrix(1.995333, 0, 0, -1.995333, 112.262195, 84.241976)\"/>\n",
       "</g>\n",
       "<g fill=\"rgb(0%, 0%, 0%)\" fill-opacity=\"1\">\n",
       "<use xlink:href=\"#glyph-0-0\" x=\"216.486436\" y=\"86.588488\"/>\n",
       "</g>\n",
       "<g fill=\"rgb(0%, 0%, 0%)\" fill-opacity=\"1\">\n",
       "<use xlink:href=\"#glyph-1-1\" x=\"225.361679\" y=\"89.571511\"/>\n",
       "</g>\n",
       "<g clip-path=\"url(#clip-2)\">\n",
       "<path fill=\"none\" stroke-width=\"1.39478\" stroke-linecap=\"butt\" stroke-linejoin=\"miter\" stroke=\"rgb(0%, 0%, 0%)\" stroke-opacity=\"1\" stroke-miterlimit=\"10\" d=\"M 125.840264 -0.000106164 C 125.840264 6.877269 120.264755 12.452779 113.387379 12.452779 C 106.510004 12.452779 100.934495 6.877269 100.934495 -0.000106164 C 100.934495 -6.877481 106.510004 -12.452991 113.387379 -12.452991 C 120.264755 -12.452991 125.840264 -6.877481 125.840264 -0.000106164 Z M 125.840264 -0.000106164 \" transform=\"matrix(1.995333, 0, 0, -1.995333, 112.262195, 84.241976)\"/>\n",
       "</g>\n",
       "<g clip-path=\"url(#clip-3)\">\n",
       "<path fill=\"none\" stroke-width=\"0.59776\" stroke-linecap=\"butt\" stroke-linejoin=\"miter\" stroke=\"rgb(100%, 100%, 100%)\" stroke-opacity=\"1\" stroke-miterlimit=\"10\" d=\"M 125.840264 -0.000106164 C 125.840264 6.877269 120.264755 12.452779 113.387379 12.452779 C 106.510004 12.452779 100.934495 6.877269 100.934495 -0.000106164 C 100.934495 -6.877481 106.510004 -12.452991 113.387379 -12.452991 C 120.264755 -12.452991 125.840264 -6.877481 125.840264 -0.000106164 Z M 125.840264 -0.000106164 \" transform=\"matrix(1.995333, 0, 0, -1.995333, 112.262195, 84.241976)\"/>\n",
       "</g>\n",
       "<g fill=\"rgb(0%, 0%, 0%)\" fill-opacity=\"1\">\n",
       "<use xlink:href=\"#glyph-0-0\" x=\"329.607869\" y=\"86.588488\"/>\n",
       "</g>\n",
       "<g fill=\"rgb(0%, 0%, 0%)\" fill-opacity=\"1\">\n",
       "<use xlink:href=\"#glyph-1-2\" x=\"338.483111\" y=\"89.571511\"/>\n",
       "</g>\n",
       "<path fill=\"none\" stroke-width=\"0.3985\" stroke-linecap=\"butt\" stroke-linejoin=\"miter\" stroke=\"rgb(0%, 0%, 0%)\" stroke-opacity=\"1\" stroke-miterlimit=\"10\" d=\"M 12.652331 -0.000106164 L 42.585456 -0.000106164 \" transform=\"matrix(1.995333, 0, 0, -1.995333, 112.262195, 84.241976)\"/>\n",
       "<path fill=\"none\" stroke-width=\"0.31879\" stroke-linecap=\"round\" stroke-linejoin=\"round\" stroke=\"rgb(0%, 0%, 0%)\" stroke-opacity=\"1\" stroke-miterlimit=\"10\" d=\"M -1.195086 1.593456 C -1.095244 0.99636 -0.000893769 0.0997362 0.298633 -0.000106164 C -0.000893769 -0.0999485 -1.095244 -0.996572 -1.195086 -1.593668 \" transform=\"matrix(1.995333, 0, 0, -1.995333, 197.236158, 84.241976)\"/>\n",
       "<g fill=\"rgb(0%, 0%, 0%)\" fill-opacity=\"1\">\n",
       "<use xlink:href=\"#glyph-2-4\" x=\"163.853533\" y=\"77.218402\"/>\n",
       "</g>\n",
       "<path fill=\"none\" stroke-width=\"0.3985\" stroke-linecap=\"butt\" stroke-linejoin=\"miter\" stroke=\"rgb(0%, 0%, 0%)\" stroke-opacity=\"1\" stroke-miterlimit=\"10\" d=\"M -3.273501 12.221771 C -8.56123 31.955316 8.56271 31.955316 3.650859 13.627394 \" transform=\"matrix(1.995333, 0, 0, -1.995333, 112.262195, 84.241976)\"/>\n",
       "<path fill=\"none\" stroke-width=\"0.31879\" stroke-linecap=\"round\" stroke-linejoin=\"round\" stroke=\"rgb(0%, 0%, 0%)\" stroke-opacity=\"1\" stroke-miterlimit=\"10\" d=\"M -1.195769 1.59295 C -1.096456 0.99532 0.000834803 0.0996054 0.29932 -0.000805209 C -0.000572181 -0.0993925 -1.095769 -0.996785 -1.195454 -1.593008 \" transform=\"matrix(-0.516372, 1.927352, 1.927352, 0.516372, 119.546738, 57.052426)\"/>\n",
       "<g fill=\"rgb(0%, 0%, 0%)\" fill-opacity=\"1\">\n",
       "<use xlink:href=\"#glyph-2-5\" x=\"99.561898\" y=\"19.435544\"/>\n",
       "<use xlink:href=\"#glyph-2-6\" x=\"109.501252\" y=\"19.435544\"/>\n",
       "<use xlink:href=\"#glyph-2-4\" x=\"115.023557\" y=\"19.435544\"/>\n",
       "</g>\n",
       "<path fill=\"none\" stroke-width=\"0.3985\" stroke-linecap=\"butt\" stroke-linejoin=\"miter\" stroke=\"rgb(0%, 0%, 0%)\" stroke-opacity=\"1\" stroke-miterlimit=\"10\" d=\"M 69.347119 -0.000106164 L 98.980717 -0.000106164 \" transform=\"matrix(1.995333, 0, 0, -1.995333, 112.262195, 84.241976)\"/>\n",
       "<path fill=\"none\" stroke-width=\"0.31879\" stroke-linecap=\"round\" stroke-linejoin=\"round\" stroke=\"rgb(0%, 0%, 0%)\" stroke-opacity=\"1\" stroke-miterlimit=\"10\" d=\"M -1.194576 1.593456 C -1.096691 0.99636 -0.000382952 0.0997362 0.299144 -0.000106164 C -0.000382952 -0.0999485 -1.096691 -0.996572 -1.194576 -1.593668 \" transform=\"matrix(1.995333, 0, 0, -1.995333, 309.762483, 84.241976)\"/>\n",
       "<g fill=\"rgb(0%, 0%, 0%)\" fill-opacity=\"1\">\n",
       "<use xlink:href=\"#glyph-2-5\" x=\"268.945745\" y=\"73.353442\"/>\n",
       "<use xlink:href=\"#glyph-2-6\" x=\"278.885099\" y=\"73.353442\"/>\n",
       "<use xlink:href=\"#glyph-2-4\" x=\"284.407404\" y=\"73.353442\"/>\n",
       "</g>\n",
       "</svg>"
      ],
      "text/plain": [
       "<IPython.core.display.SVG object>"
      ]
     },
     "execution_count": 22,
     "metadata": {},
     "output_type": "execute_result"
    }
   ],
   "source": [
    "%%tikz -sc=2.0 -l=automata,positioning\n",
    "\\begin{tikzpicture}[shorten >=1pt,node distance=2cm,on grid,auto] \n",
    "    \\node[state,initial] (q_0)   {$q_0$}; \n",
    "    \\node[state](q_1) [right=of q_0] {$q_1$};\n",
    "    \\node[state,accepting](q_2) [right=of q_1] {$q_2$};\n",
    "    \\path[->] \n",
    "    (q_0) edge  node {1} (q_1)\n",
    "          edge  [loop above] node {0,1} ()\n",
    "    (q_1) edge  node {0,1} (q_2) ;\n",
    "\\end{tikzpicture}"
   ]
  },
  {
   "cell_type": "markdown",
   "metadata": {},
   "source": [
    "Jak widać zamiast 4 stanów potrzeba tylko 3, to dlatego, że dla wersji niedeterministycznej $|K| = n + 1$\n",
    "\n",
    "**Każdy automat niedeterministyczny można zamienić na deterministyczny, kosztem ilości stanów**\n",
    "\n",
    "### Rozszerzona funkcja przejścia automatów niedeterministycznych\n",
    "\n",
    "$$\n",
    "\\stackrel{\\wedge}{\\delta}: P(K) \\times T^* \\rightarrow P(K)\n",
    "$$\n",
    "\n",
    "1. $\\stackrel{\\wedge}{\\delta}(A, \\epsilon) = A$\n",
    "2. $\\stackrel{\\wedge}{\\delta}(A, Pa) = \\bigcup_{q \\in \\stackrel{\\wedge}{\\delta}(A, P)}\\delta(q, a)$\n",
    "\n",
    "$$\n",
    "\\stackrel{\\wedge}{\\delta}(\\set{p}, a) = \\delta(p, a)\n",
    "$$\n"
   ]
  }
 ],
 "metadata": {
  "kernelspec": {
   "display_name": "usr",
   "language": "python",
   "name": "python3"
  },
  "language_info": {
   "codemirror_mode": {
    "name": "ipython",
    "version": 3
   },
   "file_extension": ".py",
   "mimetype": "text/x-python",
   "name": "python",
   "nbconvert_exporter": "python",
   "pygments_lexer": "ipython3",
   "version": "3.12.7"
  }
 },
 "nbformat": 4,
 "nbformat_minor": 2
}
